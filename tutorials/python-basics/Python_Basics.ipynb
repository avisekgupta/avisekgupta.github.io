{
 "cells": [
  {
   "cell_type": "markdown",
   "metadata": {},
   "source": [
    "<img src=\"python-logo.png\" height=\"200\">"
   ]
  },
  {
   "cell_type": "markdown",
   "metadata": {},
   "source": [
    "***\n",
    "***"
   ]
  },
  {
   "cell_type": "code",
   "execution_count": 1,
   "metadata": {},
   "outputs": [
    {
     "name": "stdout",
     "output_type": "stream",
     "text": [
      "Hello!\n"
     ]
    }
   ],
   "source": [
    "print('Hello!')"
   ]
  },
  {
   "cell_type": "code",
   "execution_count": 3,
   "metadata": {},
   "outputs": [
    {
     "data": {
      "text/plain": [
       "'\\nThis is \\na \\nmulti-line \\ncomment\\n'"
      ]
     },
     "execution_count": 3,
     "metadata": {},
     "output_type": "execute_result"
    }
   ],
   "source": [
    "# This is a comment\n",
    "\n",
    "'''\n",
    "This is \n",
    "a \n",
    "multi-line \n",
    "comment\n",
    "'''\n"
   ]
  },
  {
   "cell_type": "markdown",
   "metadata": {},
   "source": [
    "***\n",
    "***"
   ]
  },
  {
   "cell_type": "markdown",
   "metadata": {},
   "source": [
    "# Basic Python data types:\n",
    "\n",
    "# 1. Strings\n",
    "\n",
    "# 2. Integers\n",
    "\n",
    "# 3. Floats\n",
    "\n",
    "# 4. Complex Numbers\n",
    "\n",
    "# 5. Boolean"
   ]
  },
  {
   "cell_type": "code",
   "execution_count": 4,
   "metadata": {},
   "outputs": [
    {
     "name": "stdout",
     "output_type": "stream",
     "text": [
      "This is a string\n",
      "This is a string too\n",
      "This is a string three!\n",
      "\n",
      "This is a str'ing\n",
      "<class 'str'>\n"
     ]
    }
   ],
   "source": [
    "# 1. Strings:\n",
    "\n",
    "print('This is a string')\n",
    "print(\"This is a string too\")\n",
    "print('''This is a string three!''')\n",
    "\n",
    "s = \"\\nThis is a str'ing\"\n",
    "print(s)\n",
    "print(type(s))"
   ]
  },
  {
   "cell_type": "code",
   "execution_count": 5,
   "metadata": {},
   "outputs": [
    {
     "name": "stdout",
     "output_type": "stream",
     "text": [
      "5\n",
      "<class 'int'>\n"
     ]
    }
   ],
   "source": [
    "# 2. Integers\n",
    "\n",
    "i = 5\n",
    "print(i)\n",
    "print(type(i))"
   ]
  },
  {
   "cell_type": "code",
   "execution_count": 6,
   "metadata": {},
   "outputs": [
    {
     "name": "stdout",
     "output_type": "stream",
     "text": [
      "4.3\n",
      "<class 'float'>\n"
     ]
    }
   ],
   "source": [
    "# 3. Floats\n",
    "\n",
    "f = 4.3\n",
    "print(f)\n",
    "print(type(f))"
   ]
  },
  {
   "cell_type": "code",
   "execution_count": 7,
   "metadata": {},
   "outputs": [
    {
     "name": "stdout",
     "output_type": "stream",
     "text": [
      "(2+3j)\n",
      "(4+5j)\n",
      "<class 'complex'> <class 'complex'>\n",
      "\n",
      "\n",
      "2.0\n",
      "3.0\n"
     ]
    }
   ],
   "source": [
    "# 4. Complex Numbers\n",
    "\n",
    "c1 = 2 + 3j\n",
    "c2 = complex(4,5)\n",
    "print(c1)\n",
    "print(c2)\n",
    "print(type(c1), type(c2))\n",
    "\n",
    "print('\\n')\n",
    "print(c1.real)\n",
    "print(c1.imag)"
   ]
  },
  {
   "cell_type": "code",
   "execution_count": 8,
   "metadata": {},
   "outputs": [
    {
     "name": "stdout",
     "output_type": "stream",
     "text": [
      "True\n",
      "False\n",
      "<class 'bool'>\n",
      "<class 'bool'>\n"
     ]
    }
   ],
   "source": [
    "# 5. Boolean\n",
    "\n",
    "b = True\n",
    "c = False\n",
    "print(b)\n",
    "print(c)\n",
    "print(type(b))\n",
    "print(type(c))"
   ]
  },
  {
   "cell_type": "markdown",
   "metadata": {},
   "source": [
    "***\n",
    "***"
   ]
  },
  {
   "cell_type": "markdown",
   "metadata": {},
   "source": [
    "# Taking Input:"
   ]
  },
  {
   "cell_type": "code",
   "execution_count": 9,
   "metadata": {},
   "outputs": [
    {
     "name": "stdout",
     "output_type": "stream",
     "text": [
      "Enter an integer:32\n",
      "<class 'str'>\n"
     ]
    }
   ],
   "source": [
    "# raw_input() #Python2\n",
    "ip = input('Enter an integer:')\n",
    "print(type(ip))"
   ]
  },
  {
   "cell_type": "markdown",
   "metadata": {},
   "source": [
    "# Type Conversion:"
   ]
  },
  {
   "cell_type": "code",
   "execution_count": 10,
   "metadata": {},
   "outputs": [
    {
     "name": "stdout",
     "output_type": "stream",
     "text": [
      "32 <class 'int'>\n",
      "32.0 <class 'float'>\n",
      "Enter an integer:32\n",
      "32 <class 'int'>\n",
      "Enter a number:45.2\n",
      "45.2 <class 'float'>\n"
     ]
    }
   ],
   "source": [
    "print(int(ip), type(int(ip)))\n",
    "print(float(ip), type(float(ip)))\n",
    "\n",
    "ip2 = int(input('Enter an integer:'))\n",
    "print(ip2, type(ip2))\n",
    "ip3 = float(input('Enter a number:'))\n",
    "print(ip3, type(ip3))"
   ]
  },
  {
   "cell_type": "code",
   "execution_count": 11,
   "metadata": {},
   "outputs": [
    {
     "name": "stdout",
     "output_type": "stream",
     "text": [
      "10 <class 'int'>\n",
      "10 <class 'str'>\n",
      "0.5 <class 'float'>\n",
      "0.5 <class 'str'>\n"
     ]
    }
   ],
   "source": [
    "i = 10\n",
    "print(i, type(i))\n",
    "print(str(i), type(str(i)))\n",
    "\n",
    "f = 0.5\n",
    "print(f, type(f))\n",
    "print(str(f), type(str(f)))"
   ]
  },
  {
   "cell_type": "code",
   "execution_count": 12,
   "metadata": {},
   "outputs": [
    {
     "name": "stdout",
     "output_type": "stream",
     "text": [
      "3\n"
     ]
    }
   ],
   "source": [
    "# Implicit type-conversions\n",
    "\n",
    "b1 = True\n",
    "b2 = False\n",
    "print(b1 + b2 + b1 + b1)"
   ]
  },
  {
   "cell_type": "code",
   "execution_count": 13,
   "metadata": {},
   "outputs": [
    {
     "name": "stdout",
     "output_type": "stream",
     "text": [
      "False\n",
      "True\n",
      "True\n"
     ]
    }
   ],
   "source": [
    "print(bool(0))\n",
    "print(bool(100))\n",
    "print(bool(-100))"
   ]
  },
  {
   "cell_type": "code",
   "execution_count": 14,
   "metadata": {},
   "outputs": [
    {
     "name": "stdout",
     "output_type": "stream",
     "text": [
      "This 5 is a 6\n",
      "This 5 is a 6\n",
      "This 5 is a 6\n"
     ]
    }
   ],
   "source": [
    "# Some ways to print\n",
    "a = 5\n",
    "b = 6\n",
    "\n",
    "print('This',a,'is a',b)\n",
    "\n",
    "print('This {} is a {}'.format(a , b))\n",
    "\n",
    "print('This %d is a %d' %(a,b))"
   ]
  },
  {
   "cell_type": "markdown",
   "metadata": {},
   "source": [
    "# Take as input an integer and a float. Print the integer and the float. Also print their sum along with the type of the sum."
   ]
  },
  {
   "cell_type": "code",
   "execution_count": 15,
   "metadata": {},
   "outputs": [
    {
     "name": "stdout",
     "output_type": "stream",
     "text": [
      "Enter an integer:45\n",
      "Enter a float:2.3\n",
      "47.3 <class 'float'>\n"
     ]
    }
   ],
   "source": [
    "i = int(input('Enter an integer:'))\n",
    "f = float(input('Enter a float:'))\n",
    "\n",
    "s = i + f\n",
    "\n",
    "print(s, type(s))"
   ]
  },
  {
   "cell_type": "markdown",
   "metadata": {},
   "source": [
    "***\n",
    "***"
   ]
  },
  {
   "cell_type": "markdown",
   "metadata": {},
   "source": [
    "# Quick Recap:\n",
    "\n",
    "# 1. print, and comments\n",
    "\n",
    "# 2. Basic Python data types (str, int, float, complex, bool)\n",
    "\n",
    "# 3. Taking Inputs\n",
    "\n",
    "# 4. Type Conversions"
   ]
  },
  {
   "cell_type": "markdown",
   "metadata": {},
   "source": [
    "***\n",
    "***"
   ]
  },
  {
   "cell_type": "markdown",
   "metadata": {},
   "source": [
    "# Python Operators:\n",
    "\n",
    "# 1. Arithmetic Operators\n",
    "\n",
    "# 2. Assignments Operators\n",
    "\n",
    "# 3. Relational Operators\n",
    "\n",
    "# 4. Logical Operators\n",
    "\n",
    "# 5. Bitwise Operators\n",
    "\n",
    "# 6. Membership Operators\n",
    "\n",
    "# 7. Identity Operators"
   ]
  },
  {
   "cell_type": "code",
   "execution_count": 16,
   "metadata": {},
   "outputs": [
    {
     "name": "stdout",
     "output_type": "stream",
     "text": [
      "Add 13\n",
      "Subtract 7\n",
      "Multiply 30\n",
      "Division 3.3333333333333335\n",
      "Remainder (Division) 1\n",
      "Floor Division 3\n",
      "\n",
      "\n",
      "Exponentiation 100\n",
      "Exponentiation 3.1622776601683795\n",
      "Exponentiation 0.01\n"
     ]
    }
   ],
   "source": [
    "# 1. Arithmetic Operators\n",
    "\n",
    "n1 = 10\n",
    "n2 = 3\n",
    "\n",
    "print('Add', n1 + n2)\n",
    "print('Subtract',n1 - n2)\n",
    "print('Multiply',n1 * n2)\n",
    "print('Division',n1 / n2)\n",
    "print('Remainder (Division)', n1 % n2)\n",
    "print('Floor Division',n1 // n2)\n",
    "\n",
    "print('\\n')\n",
    "print('Exponentiation',n1 ** 2)\n",
    "print('Exponentiation',n1 ** 0.5)\n",
    "print('Exponentiation',n1 ** -2)"
   ]
  },
  {
   "cell_type": "code",
   "execution_count": 17,
   "metadata": {},
   "outputs": [
    {
     "name": "stdout",
     "output_type": "stream",
     "text": [
      "20 6\n",
      "26\n",
      "20\n",
      "120\n",
      "20.0\n",
      "2.0\n",
      "3\n",
      "729\n"
     ]
    }
   ],
   "source": [
    "# 2. Assignment Operators\n",
    "\n",
    "n3 = 20\n",
    "n4 = 6\n",
    "\n",
    "n3, n4 = 20, 6\n",
    "print(n3, n4)\n",
    "\n",
    "n3 += n4 # Equivalent to n3 = n3 + n4\n",
    "print(n3)\n",
    "n3 -= n4 # Equivalent to n3 = n3 - n4\n",
    "print(n3)\n",
    "n3 *= n4 # Equivalent to n3 = n3 * n4\n",
    "print(n3)\n",
    "n3 /= n4 # Equivalent to n3 = n3 / n4\n",
    "print(n3)\n",
    "n3 %= n4 # Equivalent to n3 = n3 % n4\n",
    "print(n3)\n",
    "\n",
    "n3 = 20\n",
    "\n",
    "n3 //= n4 # Equivalent to n3 = n3 // n4\n",
    "print(n3)\n",
    "n3 **= n4 # Equivalent to n3 = n3 ** n4\n",
    "print(n3)"
   ]
  },
  {
   "cell_type": "code",
   "execution_count": 18,
   "metadata": {},
   "outputs": [
    {
     "name": "stdout",
     "output_type": "stream",
     "text": [
      "False\n",
      "True\n",
      "True\n",
      "False\n",
      "True\n",
      "False\n"
     ]
    }
   ],
   "source": [
    "# 3. Relational Operators\n",
    "\n",
    "n1 = 10\n",
    "n2 = 5\n",
    "\n",
    "print(n1 == n2)\n",
    "print(n1 != n2)\n",
    "print(n1 > n2)\n",
    "print(n1 < n2)\n",
    "print(n1 >= n2)\n",
    "print(n1 <= n2)"
   ]
  },
  {
   "cell_type": "markdown",
   "metadata": {},
   "source": [
    "# Take four numbers as input. Display whether the sum of the first two numbers is greater than or equal to the sum of the latter two numbers"
   ]
  },
  {
   "cell_type": "code",
   "execution_count": 19,
   "metadata": {},
   "outputs": [
    {
     "name": "stdout",
     "output_type": "stream",
     "text": [
      "False\n",
      "False\n",
      "True\n",
      "0\n",
      "1\n"
     ]
    }
   ],
   "source": [
    "# 4. Logical Operators\n",
    "\n",
    "b1 = True\n",
    "b2 = False\n",
    "\n",
    "print(not b1)\n",
    "print(b1 and b2)\n",
    "print(b1 or b2)\n",
    "\n",
    "print(0 and 1)\n",
    "print(0 or 1)"
   ]
  },
  {
   "cell_type": "code",
   "execution_count": 20,
   "metadata": {},
   "outputs": [
    {
     "name": "stdout",
     "output_type": "stream",
     "text": [
      "6\n",
      "15\n",
      "9\n",
      "-16\n",
      "60\n",
      "3\n"
     ]
    }
   ],
   "source": [
    "# 5. Bitwise Operators\n",
    "\n",
    "i1 = 15 # 1111\n",
    "i2 = 6 #  0110\n",
    "\n",
    "print(i1 & i2) # and\n",
    "print(i1 | i2) # or\n",
    "print(i1 ^ i2) # xor\n",
    "print(~i1) # one's complement\n",
    "print(i1 << 2) # left shift\n",
    "print(i1 >> 2) # right shift"
   ]
  },
  {
   "cell_type": "code",
   "execution_count": 21,
   "metadata": {},
   "outputs": [
    {
     "name": "stdout",
     "output_type": "stream",
     "text": [
      "True\n",
      "False\n"
     ]
    }
   ],
   "source": [
    "# 6. Membership Operators\n",
    "\n",
    "print('str' in 'string')\n",
    "print('ni' not in 'convenient')"
   ]
  },
  {
   "cell_type": "code",
   "execution_count": 22,
   "metadata": {},
   "outputs": [
    {
     "name": "stdout",
     "output_type": "stream",
     "text": [
      "False\n"
     ]
    }
   ],
   "source": [
    "# 7. Identity Operators\n",
    "\n",
    "string1 = 'abcd'\n",
    "string2 = 'efgh'\n",
    "print(string1 is string2)"
   ]
  },
  {
   "cell_type": "markdown",
   "metadata": {},
   "source": [
    "***\n",
    "***"
   ]
  },
  {
   "cell_type": "markdown",
   "metadata": {},
   "source": [
    "# Quick Recap:\n",
    "\n",
    "# 1. print, and comments\n",
    "\n",
    "# 2. Basic Python data types (str, int, float, complex, bool)\n",
    "\n",
    "# 3. Taking Inputs\n",
    "\n",
    "# 4. Type Conversions\n",
    "\n",
    "# 5. Python Operators (arithmetic, assignment, relational, logical, bitwise, membership, identity)"
   ]
  },
  {
   "cell_type": "markdown",
   "metadata": {},
   "source": [
    "***\n",
    "***"
   ]
  },
  {
   "cell_type": "markdown",
   "metadata": {},
   "source": [
    "# Conditional Statements: if-elif-else"
   ]
  },
  {
   "cell_type": "code",
   "execution_count": 22,
   "metadata": {},
   "outputs": [],
   "source": [
    "# General structure\n",
    "\n",
    "# if condition1:\n",
    "#     statement(s)\n",
    "\n",
    "# elif condition2:\n",
    "#     statement(s)\n",
    "\n",
    "# elif condition3:\n",
    "#     statement(s)\n",
    "\n",
    "# ...\n",
    "\n",
    "# elif conditionN:\n",
    "#     statement(s)\n",
    "\n",
    "# else:\n",
    "#     statement(s)"
   ]
  },
  {
   "cell_type": "code",
   "execution_count": 23,
   "metadata": {},
   "outputs": [
    {
     "name": "stdout",
     "output_type": "stream",
     "text": [
      "a2 is greater\n"
     ]
    }
   ],
   "source": [
    "a1 = 5\n",
    "a2 = 10\n",
    "\n",
    "if a1 > a2:\n",
    "    print('a1 is greater')\n",
    "elif a1 < a2:\n",
    "    print('a2 is greater')\n",
    "elif False:\n",
    "    print('This statement will never be reached')\n",
    "else:\n",
    "    print('a1 and a2 are equal')"
   ]
  },
  {
   "cell_type": "markdown",
   "metadata": {},
   "source": [
    "# WAP that takes an integer as input, and prints whether the number is odd or even."
   ]
  },
  {
   "cell_type": "code",
   "execution_count": 24,
   "metadata": {},
   "outputs": [
    {
     "name": "stdout",
     "output_type": "stream",
     "text": [
      "Input an integer:45\n",
      "45 is odd\n"
     ]
    }
   ],
   "source": [
    "x = int(input('Input an integer:'))\n",
    "if x%2:\n",
    "    print(x,'is odd')\n",
    "else:\n",
    "    print(x, 'is eve')"
   ]
  },
  {
   "cell_type": "markdown",
   "metadata": {},
   "source": [
    "***\n",
    "***"
   ]
  },
  {
   "cell_type": "markdown",
   "metadata": {},
   "source": [
    "# Python Indentations"
   ]
  },
  {
   "cell_type": "markdown",
   "metadata": {},
   "source": [
    "# 1. There are no braces {} in Python to demarcate blocks of code.\n",
    "\n",
    "# 2. Indentations (whitespaces) demarcate blocks of code.\n",
    "\n",
    "# 3. Changes in indentation mark where a block begins, and where it ends.\n",
    "\n",
    "# 4. A common convention: 4 spaces (or 1 tab, which the editor converts to 4 spaces)."
   ]
  },
  {
   "cell_type": "code",
   "execution_count": 25,
   "metadata": {},
   "outputs": [
    {
     "name": "stdout",
     "output_type": "stream",
     "text": [
      "a1 == 10, a2 == 20, a3 == 30\n"
     ]
    }
   ],
   "source": [
    "a1 = 10\n",
    "a2 = 20\n",
    "a3 = 30\n",
    "\n",
    "if a1 == 10:\n",
    "    if a2 == 20:\n",
    "        if a3 == 30:\n",
    "            print('a1 == 10, a2 == 20, a3 == 30')\n",
    "        else:\n",
    "            print('a1 == 10, a2 == 20, a3 != 30')\n",
    "    else:\n",
    "        print('a1 == 10, a2 != 20, a3 != 30')\n",
    "else:\n",
    "    print('a1 != 10, a2 != 20, a3 != 30')"
   ]
  },
  {
   "cell_type": "markdown",
   "metadata": {},
   "source": [
    "***\n",
    "***"
   ]
  },
  {
   "cell_type": "markdown",
   "metadata": {},
   "source": [
    "# Loops!"
   ]
  },
  {
   "cell_type": "code",
   "execution_count": 25,
   "metadata": {},
   "outputs": [],
   "source": [
    "# 1. for loops\n",
    "\n",
    "# General Structure\n",
    "\n",
    "# for variable in iterator:\n",
    "#     statement(s)"
   ]
  },
  {
   "cell_type": "code",
   "execution_count": 26,
   "metadata": {},
   "outputs": [
    {
     "name": "stdout",
     "output_type": "stream",
     "text": [
      "0\n",
      "1\n",
      "2\n",
      "3\n",
      "4\n",
      "5\n",
      "\n",
      "a\n",
      "b\n",
      "c\n"
     ]
    }
   ],
   "source": [
    "# range() with 1 argument:\n",
    "# range(t) : goes from 0 to t-1\n",
    "\n",
    "for i in range(6): # [0, 1, 2, 3, 4, 5]\n",
    "    print(i)\n",
    "print('')\n",
    "for i in 'abc':\n",
    "    print(i)"
   ]
  },
  {
   "cell_type": "code",
   "execution_count": 27,
   "metadata": {},
   "outputs": [
    {
     "name": "stdout",
     "output_type": "stream",
     "text": [
      "0\n",
      "1\n",
      "2\n",
      "3\n",
      "4\n",
      "5\n",
      "\n",
      "5\n",
      "6\n",
      "7\n",
      "8\n",
      "9\n"
     ]
    }
   ],
   "source": [
    "# range with 2 arguments:\n",
    "# range(start, end)\n",
    "\n",
    "for i in range(0,5+1):\n",
    "    print(i)\n",
    "\n",
    "print('')\n",
    "for i in range(5,10):\n",
    "    print(i)"
   ]
  },
  {
   "cell_type": "code",
   "execution_count": 28,
   "metadata": {},
   "outputs": [
    {
     "name": "stdout",
     "output_type": "stream",
     "text": [
      "0\n",
      "2\n",
      "4\n",
      "6\n",
      "8\n",
      "10\n",
      "12\n",
      "14\n",
      "16\n",
      "18\n"
     ]
    }
   ],
   "source": [
    "# range with 3 arguments\n",
    "# range(start, end, steps)\n",
    "\n",
    "for i in range(0,20,2):\n",
    "    print(i)"
   ]
  },
  {
   "cell_type": "code",
   "execution_count": 29,
   "metadata": {},
   "outputs": [
    {
     "name": "stdout",
     "output_type": "stream",
     "text": [
      "10\n",
      "8\n",
      "6\n",
      "4\n",
      "2\n"
     ]
    }
   ],
   "source": [
    "# Loop in the opposite step direction\n",
    "\n",
    "for i in range(10,0,-2):\n",
    "    print(i)"
   ]
  },
  {
   "cell_type": "code",
   "execution_count": 30,
   "metadata": {},
   "outputs": [
    {
     "name": "stdout",
     "output_type": "stream",
     "text": [
      "a\n",
      "b\n",
      "c\n",
      "d\n",
      "e\n",
      "f\n",
      "g\n"
     ]
    }
   ],
   "source": [
    "# Iterate over strings\n",
    "\n",
    "str1 = 'abcdefg'\n",
    "\n",
    "for i in str1:\n",
    "    print(i)"
   ]
  },
  {
   "cell_type": "code",
   "execution_count": 31,
   "metadata": {},
   "outputs": [
    {
     "name": "stdout",
     "output_type": "stream",
     "text": [
      "0 a\n",
      "1 b\n",
      "2 c\n",
      "3 d\n",
      "4 e\n",
      "5 f\n",
      "6 g\n"
     ]
    }
   ],
   "source": [
    "# Iterate explicitly over strings:\n",
    "\n",
    "str1 = 'abcdefg'\n",
    "\n",
    "for i in range(len(str1)):\n",
    "    print(i, str1[i])"
   ]
  },
  {
   "cell_type": "code",
   "execution_count": 32,
   "metadata": {},
   "outputs": [],
   "source": [
    "# 2. while loops\n",
    "\n",
    "# General Structure\n",
    "\n",
    "# while condition:\n",
    "#     statement(s)"
   ]
  },
  {
   "cell_type": "code",
   "execution_count": 33,
   "metadata": {},
   "outputs": [
    {
     "name": "stdout",
     "output_type": "stream",
     "text": [
      "0\n",
      "2\n",
      "4\n",
      "6\n",
      "8\n"
     ]
    }
   ],
   "source": [
    "i = 0\n",
    "\n",
    "while i < 10:\n",
    "    print(i)\n",
    "    i += 2"
   ]
  },
  {
   "cell_type": "markdown",
   "metadata": {},
   "source": [
    "# break, continue"
   ]
  },
  {
   "cell_type": "code",
   "execution_count": 34,
   "metadata": {},
   "outputs": [
    {
     "name": "stdout",
     "output_type": "stream",
     "text": [
      "11\n"
     ]
    }
   ],
   "source": [
    "# break: break out of the inner-most loop (not the if-else block!)\n",
    "\n",
    "i = 0\n",
    "while 1:\n",
    "    i += 1\n",
    "    if i > 10:\n",
    "        break\n",
    "print(i)"
   ]
  },
  {
   "cell_type": "code",
   "execution_count": 35,
   "metadata": {},
   "outputs": [
    {
     "name": "stdout",
     "output_type": "stream",
     "text": [
      "11\n"
     ]
    }
   ],
   "source": [
    "# continue: go to the start of the inner-most loop (not if-else blocks)\n",
    "\n",
    "i = 0\n",
    "while 1:\n",
    "    i += 1\n",
    "    if i > 10:\n",
    "        break\n",
    "    elif i <= 10:\n",
    "        continue\n",
    "    print('something')\n",
    "print(i)"
   ]
  },
  {
   "cell_type": "markdown",
   "metadata": {},
   "source": [
    "***\n",
    "***"
   ]
  },
  {
   "cell_type": "markdown",
   "metadata": {},
   "source": [
    "# Recap:\n",
    "\n",
    "# 1. print, and comments\n",
    "\n",
    "# 2. Basic Python data types (str, int, float, complex, bool)\n",
    "\n",
    "# 3. Taking Inputs\n",
    "\n",
    "# 4. Type Conversions\n",
    "\n",
    "# 5. Python Operators (arithmetic, assignment, relational, logical, bitwise, membership, identity)\n",
    "\n",
    "# 6. if-elif-else\n",
    "\n",
    "# 7. Python Indentations\n",
    "\n",
    "# 8. Loops (for, while)\n",
    "\n",
    "# 9. break, continue, pass"
   ]
  },
  {
   "cell_type": "markdown",
   "metadata": {},
   "source": [
    "***\n",
    "***"
   ]
  },
  {
   "cell_type": "markdown",
   "metadata": {},
   "source": [
    "# Functions"
   ]
  },
  {
   "cell_type": "code",
   "execution_count": 36,
   "metadata": {},
   "outputs": [],
   "source": [
    "# General Structure\n",
    "\n",
    "# def functionName(argument1, argument2, argumentN):\n",
    "#     statement(s)\n",
    "#     return return1, return2, returnN\n",
    "\n",
    "# You can also return nothing."
   ]
  },
  {
   "cell_type": "code",
   "execution_count": 37,
   "metadata": {},
   "outputs": [
    {
     "name": "stdout",
     "output_type": "stream",
     "text": [
      "True\n",
      "False\n"
     ]
    }
   ],
   "source": [
    "# functions can accept arguments, and can return values\n",
    "\n",
    "def even(n):\n",
    "    if n % 2 == 0:\n",
    "        is_even = True\n",
    "    else:\n",
    "        is_even = False\n",
    "    return is_even\n",
    "\n",
    "n1 = 4\n",
    "print(even(n1))\n",
    "n2 = 7\n",
    "print(even(n2))"
   ]
  },
  {
   "cell_type": "code",
   "execution_count": 38,
   "metadata": {},
   "outputs": [
    {
     "name": "stdout",
     "output_type": "stream",
     "text": [
      "True\n",
      "False\n"
     ]
    }
   ],
   "source": [
    "def even(n):\n",
    "    return n % 2 == 0\n",
    "\n",
    "n1 = 20\n",
    "print(even(n1))\n",
    "n2 = 13\n",
    "print(even(n2))"
   ]
  },
  {
   "cell_type": "code",
   "execution_count": 39,
   "metadata": {},
   "outputs": [
    {
     "name": "stdout",
     "output_type": "stream",
     "text": [
      "(15, 5, 50, 2.0, 0, 2, 100000)\n",
      "24 16 80 5.0 0 5 160000\n"
     ]
    }
   ],
   "source": [
    "# functions can return multiple values\n",
    "\n",
    "def mad_calculator(n1, n2):\n",
    "    return n1+n2, n1-n2, n1*n2, n1/n2, n1%n2, n1//n2, n1**n2\n",
    "\n",
    "a1 = 10\n",
    "a2 = 5\n",
    "print(mad_calculator(a1, a2))\n",
    "\n",
    "a3 = 20\n",
    "a4 = 4\n",
    "ret1, ret2, ret3, ret4, ret5, ret6, ret7 = mad_calculator(a3, a4)\n",
    "print(ret1, ret2, ret3, ret4, ret5, ret6, ret7)"
   ]
  },
  {
   "cell_type": "code",
   "execution_count": 40,
   "metadata": {},
   "outputs": [
    {
     "name": "stdout",
     "output_type": "stream",
     "text": [
      "10\n",
      "59049\n"
     ]
    }
   ],
   "source": [
    "# You can provide default values to the parameters of a function\n",
    "\n",
    "def power(x, p=1):\n",
    "    return x**p\n",
    "\n",
    "print(power(x=10))\n",
    "print(power(p=10, x=3))"
   ]
  },
  {
   "cell_type": "code",
   "execution_count": 41,
   "metadata": {},
   "outputs": [
    {
     "ename": "SyntaxError",
     "evalue": "non-default argument follows default argument (<ipython-input-41-9648f16a8c63>, line 3)",
     "output_type": "error",
     "traceback": [
      "\u001b[0;36m  File \u001b[0;32m\"<ipython-input-41-9648f16a8c63>\"\u001b[0;36m, line \u001b[0;32m3\u001b[0m\n\u001b[0;31m    def power(x=1, p):\u001b[0m\n\u001b[0m             ^\u001b[0m\n\u001b[0;31mSyntaxError\u001b[0m\u001b[0;31m:\u001b[0m non-default argument follows default argument\n"
     ]
    }
   ],
   "source": [
    "# Default values MUST be filled from the right\n",
    "\n",
    "def power(x=1, p):\n",
    "    return x**p\n",
    "\n",
    "print(power(10, 3))"
   ]
  },
  {
   "cell_type": "markdown",
   "metadata": {},
   "source": [
    "***\n",
    "***"
   ]
  },
  {
   "cell_type": "markdown",
   "metadata": {},
   "source": [
    "# Recap:\n",
    "\n",
    "# 1. print, and comments\n",
    "\n",
    "# 2. Basic Python data types (str, int, float, complex, bool)\n",
    "\n",
    "# 3. Taking Inputs\n",
    "\n",
    "# 4. Type Conversions\n",
    "\n",
    "# 5. Python Operators (arithmetic, assignment, relational, logical, bitwise, membership, identity)\n",
    "\n",
    "# 6. if-elif-else\n",
    "\n",
    "# 7. Python Indentations\n",
    "\n",
    "# 8. Loops (for, while)\n",
    "\n",
    "# 9. break, continue, pass\n",
    "\n",
    "# 10. Function"
   ]
  },
  {
   "cell_type": "markdown",
   "metadata": {},
   "source": [
    "***\n",
    "***"
   ]
  },
  {
   "cell_type": "markdown",
   "metadata": {},
   "source": [
    "# Classes"
   ]
  },
  {
   "cell_type": "code",
   "execution_count": 42,
   "metadata": {},
   "outputs": [],
   "source": [
    "# General Structure\n",
    "\n",
    "# class className:\n",
    "#     def function1():\n",
    "#         statement(s)\n",
    "#     def function2():\n",
    "#         statement(s)\n",
    "#     def functionN():\n",
    "#         statement(s)\n",
    "\n",
    "# className objectName\n",
    "# objectName.function1()\n",
    "\n",
    "# # public members\n",
    "# def functionName():\n",
    "#     statement(s)\n",
    "# # private members\n",
    "# def __name__():\n",
    "#     statements(s)\n",
    "\n",
    "# Constructor:\n",
    "# def __init__():\n",
    "#     statements(s)"
   ]
  },
  {
   "cell_type": "markdown",
   "metadata": {},
   "source": [
    "# Principles of Object Oriented Programming\n",
    "\n",
    "# 1. Abstraction\n",
    "\n",
    "# 2. Encapsulation\n",
    "\n",
    "# 3. Inheritance\n",
    "\n",
    "# 4. Polymorphism"
   ]
  },
  {
   "cell_type": "code",
   "execution_count": 43,
   "metadata": {},
   "outputs": [],
   "source": [
    "class rectangle:\n",
    "    \n",
    "    def __init__(selfabc, length=0, width=0):\n",
    "        selfabc.length = length\n",
    "        selfabc.width = width\n",
    "    \n",
    "    def area(self123):\n",
    "        return self123.length * self123.width"
   ]
  },
  {
   "cell_type": "code",
   "execution_count": 44,
   "metadata": {},
   "outputs": [
    {
     "name": "stdout",
     "output_type": "stream",
     "text": [
      "6\n",
      "0\n"
     ]
    }
   ],
   "source": [
    "var_rect = rectangle(length=2, width=3)\n",
    "print(var_rect.area())\n",
    "var_rect = rectangle()\n",
    "print(var_rect.area())"
   ]
  },
  {
   "cell_type": "code",
   "execution_count": 45,
   "metadata": {},
   "outputs": [
    {
     "name": "stdout",
     "output_type": "stream",
     "text": [
      "24\n",
      "210\n"
     ]
    }
   ],
   "source": [
    "class cuboid(rectangle):\n",
    "    \n",
    "    def __init__(self, length=0, width=0, height=0):\n",
    "        rectangle.__init__(self, length=length, width=width)\n",
    "        self.height = height\n",
    "    \n",
    "    def volume(self):\n",
    "        return self.height*self.area()\n",
    "    \n",
    "var_cuboid = cuboid(length=2, width=3, height=4)\n",
    "print(var_cuboid.volume())\n",
    "var_cuboid2 = cuboid(length=5, width=6, height=7)\n",
    "print(var_cuboid2.volume())"
   ]
  },
  {
   "cell_type": "markdown",
   "metadata": {},
   "source": [
    "***\n",
    "***"
   ]
  },
  {
   "cell_type": "markdown",
   "metadata": {},
   "source": [
    "# Data Structures: Lists, Tuples, Sets and Dictionaries"
   ]
  },
  {
   "cell_type": "markdown",
   "metadata": {},
   "source": [
    "# 1. List: Mutable array that can store any object"
   ]
  },
  {
   "cell_type": "code",
   "execution_count": 46,
   "metadata": {},
   "outputs": [
    {
     "name": "stdout",
     "output_type": "stream",
     "text": [
      "[2, 3.5, 'apple', False]\n",
      "2\n",
      "apple\n"
     ]
    }
   ],
   "source": [
    "# lists store data of any type\n",
    "\n",
    "l1 = [2, 3.5, 'apple', False]\n",
    "print(l1)\n",
    "print(l1[0])\n",
    "print(l1[2])"
   ]
  },
  {
   "cell_type": "code",
   "execution_count": 47,
   "metadata": {},
   "outputs": [
    {
     "name": "stdout",
     "output_type": "stream",
     "text": [
      "[]\n",
      "['Five']\n"
     ]
    }
   ],
   "source": [
    "# can create empty lists, can append elements to a list\n",
    "\n",
    "l1 = []\n",
    "print(l1)\n",
    "l1.append('Five')\n",
    "print(l1)"
   ]
  },
  {
   "cell_type": "code",
   "execution_count": 48,
   "metadata": {},
   "outputs": [
    {
     "name": "stdout",
     "output_type": "stream",
     "text": [
      "['abc', 'def', 'abc2', 'def2']\n",
      "[4, 5, 6, 7]\n"
     ]
    }
   ],
   "source": [
    "# '+' for lists defined as concatenation\n",
    "\n",
    "l1 = ['abc', 'def']\n",
    "l2 = ['abc2', 'def2']\n",
    "print(l1 + l2)\n",
    "l3 = [4,5]\n",
    "l4 = [6,7]\n",
    "print(l3 + l4)"
   ]
  },
  {
   "cell_type": "code",
   "execution_count": 49,
   "metadata": {},
   "outputs": [
    {
     "name": "stdout",
     "output_type": "stream",
     "text": [
      "[['abc', 'def'], 'Six']\n"
     ]
    }
   ],
   "source": [
    "# can append lists to lists\n",
    "\n",
    "l1 = ['abc', 'def']\n",
    "l2 = [l1, 'Six']\n",
    "print(l2)"
   ]
  },
  {
   "cell_type": "code",
   "execution_count": 50,
   "metadata": {},
   "outputs": [
    {
     "name": "stdout",
     "output_type": "stream",
     "text": [
      "[2, 3.5, False, 'apple']\n"
     ]
    }
   ],
   "source": [
    "# remove the first occurance of an element\n",
    "\n",
    "l1 = [2, 3.5, 'apple', False, 'apple']\n",
    "l1.remove('apple')\n",
    "print(l1)"
   ]
  },
  {
   "cell_type": "code",
   "execution_count": 51,
   "metadata": {},
   "outputs": [
    {
     "name": "stdout",
     "output_type": "stream",
     "text": [
      "[2, 3.5, 'apple', False, 'apple']\n"
     ]
    }
   ],
   "source": [
    "# insert element in a specific position\n",
    "\n",
    "l1 = [2, 3.5, False, 'apple']\n",
    "l1.insert(2, 'apple')\n",
    "print(l1)"
   ]
  },
  {
   "cell_type": "code",
   "execution_count": 52,
   "metadata": {},
   "outputs": [
    {
     "name": "stdout",
     "output_type": "stream",
     "text": [
      "Five\n",
      "[2, 3.5, 'apple', False]\n"
     ]
    }
   ],
   "source": [
    "# delete last element\n",
    "\n",
    "l1 = [2, 3.5, 'apple', False, 'Five']\n",
    "x = l1.pop()\n",
    "print(x)\n",
    "print(l1)"
   ]
  },
  {
   "cell_type": "code",
   "execution_count": 53,
   "metadata": {},
   "outputs": [
    {
     "name": "stdout",
     "output_type": "stream",
     "text": [
      "['__add__', '__class__', '__contains__', '__delattr__', '__delitem__', '__dir__', '__doc__', '__eq__', '__format__', '__ge__', '__getattribute__', '__getitem__', '__gt__', '__hash__', '__iadd__', '__imul__', '__init__', '__init_subclass__', '__iter__', '__le__', '__len__', '__lt__', '__mul__', '__ne__', '__new__', '__reduce__', '__reduce_ex__', '__repr__', '__reversed__', '__rmul__', '__setattr__', '__setitem__', '__sizeof__', '__str__', '__subclasshook__', 'append', 'clear', 'copy', 'count', 'extend', 'index', 'insert', 'pop', 'remove', 'reverse', 'sort']\n"
     ]
    }
   ],
   "source": [
    "# all possible operations on a list\n",
    "\n",
    "print(dir(l1))"
   ]
  },
  {
   "cell_type": "code",
   "execution_count": 54,
   "metadata": {},
   "outputs": [
    {
     "name": "stdout",
     "output_type": "stream",
     "text": [
      "5\n"
     ]
    }
   ],
   "source": [
    "l1 = [2, 3.5, 'apple', False, 'Five']\n",
    "print(len(l1))"
   ]
  },
  {
   "cell_type": "code",
   "execution_count": 55,
   "metadata": {},
   "outputs": [
    {
     "name": "stdout",
     "output_type": "stream",
     "text": [
      "2\n"
     ]
    }
   ],
   "source": [
    "l1 = [2, 3.5, 'apple', False, 'Five']\n",
    "print(l1.index('apple'))"
   ]
  },
  {
   "cell_type": "code",
   "execution_count": 56,
   "metadata": {},
   "outputs": [
    {
     "name": "stdout",
     "output_type": "stream",
     "text": [
      "[2, 3.5, 'apple', False, 'apple', 'Five', 'apple']\n",
      "3\n"
     ]
    }
   ],
   "source": [
    "l1 = [2, 3.5, 'apple', False, 'apple', 'Five', 'apple']\n",
    "print(l1)\n",
    "print(l1.count('apple'))"
   ]
  },
  {
   "cell_type": "code",
   "execution_count": 57,
   "metadata": {},
   "outputs": [
    {
     "name": "stdout",
     "output_type": "stream",
     "text": [
      "[20, 3.5, 14, 5, 1]\n",
      "[1, 3.5, 5, 14, 20]\n",
      "[20, 14, 5, 3.5, 1]\n"
     ]
    }
   ],
   "source": [
    "l3 = [20, 3.5, 14, 5, 1]\n",
    "print(l3)\n",
    "l3.sort()\n",
    "print(l3)\n",
    "l3.reverse()\n",
    "print(l3)"
   ]
  },
  {
   "cell_type": "markdown",
   "metadata": {},
   "source": [
    "# Copying Caution!"
   ]
  },
  {
   "cell_type": "code",
   "execution_count": 58,
   "metadata": {},
   "outputs": [
    {
     "name": "stdout",
     "output_type": "stream",
     "text": [
      "[1, 2, 3, 4, 5]\n",
      "[1, 2, 3, 4, 5]\n",
      "\n",
      "\n",
      "[1, 2, 3, 4, 5, 6]\n",
      "[1, 2, 3, 4, 5]\n"
     ]
    }
   ],
   "source": [
    "l1 = [1, 2, 3, 4]\n",
    "l2 = l1\n",
    "l2.append(5)\n",
    "print(l2)\n",
    "print(l1)\n",
    "\n",
    "print('\\n')\n",
    "l3 = list(l1)\n",
    "l3.append(6)\n",
    "print(l3)\n",
    "print(l1)"
   ]
  },
  {
   "cell_type": "markdown",
   "metadata": {},
   "source": [
    "# 2. Tuples: Immutable arrays that can store any object"
   ]
  },
  {
   "cell_type": "code",
   "execution_count": 59,
   "metadata": {},
   "outputs": [
    {
     "name": "stdout",
     "output_type": "stream",
     "text": [
      "(2, 3, 'banana')\n",
      "2\n"
     ]
    }
   ],
   "source": [
    "t1 = (2, 3, 'banana')\n",
    "print(t1)\n",
    "\n",
    "# access a particular element\n",
    "\n",
    "print(t1[0])"
   ]
  },
  {
   "cell_type": "code",
   "execution_count": 60,
   "metadata": {},
   "outputs": [
    {
     "name": "stdout",
     "output_type": "stream",
     "text": [
      "()\n"
     ]
    }
   ],
   "source": [
    "# create empty tuples\n",
    "\n",
    "t2 = ()\n",
    "print(t2)"
   ]
  },
  {
   "cell_type": "code",
   "execution_count": 61,
   "metadata": {},
   "outputs": [
    {
     "ename": "TypeError",
     "evalue": "'tuple' object does not support item assignment",
     "output_type": "error",
     "traceback": [
      "\u001b[0;31m---------------------------------------------------------------------------\u001b[0m",
      "\u001b[0;31mTypeError\u001b[0m                                 Traceback (most recent call last)",
      "\u001b[0;32m<ipython-input-61-4035f236510d>\u001b[0m in \u001b[0;36m<module>\u001b[0;34m()\u001b[0m\n\u001b[1;32m      1\u001b[0m \u001b[0;31m# cannot modify tuples\u001b[0m\u001b[0;34m\u001b[0m\u001b[0;34m\u001b[0m\u001b[0m\n\u001b[1;32m      2\u001b[0m \u001b[0;34m\u001b[0m\u001b[0m\n\u001b[0;32m----> 3\u001b[0;31m \u001b[0mt1\u001b[0m\u001b[0;34m[\u001b[0m\u001b[0;36m0\u001b[0m\u001b[0;34m]\u001b[0m \u001b[0;34m=\u001b[0m \u001b[0;36m1\u001b[0m\u001b[0;34m\u001b[0m\u001b[0m\n\u001b[0m",
      "\u001b[0;31mTypeError\u001b[0m: 'tuple' object does not support item assignment"
     ]
    }
   ],
   "source": [
    "# cannot modify tuples\n",
    "\n",
    "t1[0] = 1"
   ]
  },
  {
   "cell_type": "markdown",
   "metadata": {},
   "source": [
    "# 3. Set: No duplicates"
   ]
  },
  {
   "cell_type": "code",
   "execution_count": 62,
   "metadata": {},
   "outputs": [
    {
     "name": "stdout",
     "output_type": "stream",
     "text": [
      "{1, 2, 3, 4}\n"
     ]
    }
   ],
   "source": [
    "s1 = set({1, 2, 2, 3, 4})\n",
    "print(s1)"
   ]
  },
  {
   "cell_type": "code",
   "execution_count": 63,
   "metadata": {},
   "outputs": [
    {
     "name": "stdout",
     "output_type": "stream",
     "text": [
      "{1, 2, 3, 4.5, 'abc'}\n"
     ]
    }
   ],
   "source": [
    "s1 = set({1, 2, 2, 3, 'abc', 4.5, 2.0})\n",
    "print(s1)"
   ]
  },
  {
   "cell_type": "code",
   "execution_count": 64,
   "metadata": {},
   "outputs": [
    {
     "name": "stdout",
     "output_type": "stream",
     "text": [
      "[1, 2, 4, 5, 9]\n"
     ]
    }
   ],
   "source": [
    "# Sets are useful in getting only the unique elements\n",
    "\n",
    "l1 = [2, 5, 1, 9, 2, 4, 1, 5, 9, 2, 2, 2, 9, 1]\n",
    "l2 = list(set(l1))\n",
    "print(l2)"
   ]
  },
  {
   "cell_type": "markdown",
   "metadata": {},
   "source": [
    "# 4. Dictionaries: Map keys to values"
   ]
  },
  {
   "cell_type": "code",
   "execution_count": 65,
   "metadata": {},
   "outputs": [
    {
     "name": "stdout",
     "output_type": "stream",
     "text": [
      "1\n",
      "2\n",
      "top student\n"
     ]
    }
   ],
   "source": [
    "# key:value - maps key to value\n",
    "\n",
    "roll = {'harry':1, 'ron':2, 'hermione':3, 'hermione':'top student'}\n",
    "\n",
    "print(roll['harry'])\n",
    "print(roll['ron'])\n",
    "print(roll['hermione'])"
   ]
  },
  {
   "cell_type": "code",
   "execution_count": 66,
   "metadata": {},
   "outputs": [
    {
     "name": "stdout",
     "output_type": "stream",
     "text": [
      "harry\n",
      "ron\n",
      "3\n"
     ]
    }
   ],
   "source": [
    "# both kets and values can be of any data type\n",
    "\n",
    "names = {1: 'harry', 2:'ron', 'hermione':3}\n",
    "\n",
    "print(names[1])\n",
    "print(names[2])\n",
    "print(names['hermione'])"
   ]
  },
  {
   "cell_type": "code",
   "execution_count": 67,
   "metadata": {},
   "outputs": [
    {
     "name": "stdout",
     "output_type": "stream",
     "text": [
      "3\n",
      "dict_keys(['harry', 'ron', 'hermione'])\n",
      "harry ron hermione\n",
      "dict_values([1, 2, 3])\n"
     ]
    }
   ],
   "source": [
    "roll = {'harry':1, 'ron':2, 'hermione':3}\n",
    "print(len(roll))\n",
    "print(roll.keys())\n",
    "k1, k2, k3 = roll.keys()\n",
    "print(k1, k2, k3)\n",
    "print(roll.values())"
   ]
  },
  {
   "cell_type": "markdown",
   "metadata": {},
   "source": [
    "# Iterate over data structures"
   ]
  },
  {
   "cell_type": "code",
   "execution_count": 68,
   "metadata": {},
   "outputs": [
    {
     "name": "stdout",
     "output_type": "stream",
     "text": [
      "1\n",
      "2\n",
      "3\n",
      "4\n",
      "5\n"
     ]
    }
   ],
   "source": [
    "# Iterate over Lists\n",
    "\n",
    "l1 = [1, 2, 3, 4, 5]\n",
    "\n",
    "for x in l1:\n",
    "    print(x)"
   ]
  },
  {
   "cell_type": "code",
   "execution_count": 69,
   "metadata": {},
   "outputs": [
    {
     "name": "stdout",
     "output_type": "stream",
     "text": [
      "0 1\n",
      "1 2\n",
      "2 3\n",
      "3 4\n",
      "4 5\n"
     ]
    }
   ],
   "source": [
    "l1 = [1, 2, 3, 4, 5]\n",
    "\n",
    "for x in range(len(l1)):\n",
    "    print(x, l1[x])"
   ]
  },
  {
   "cell_type": "code",
   "execution_count": 70,
   "metadata": {},
   "outputs": [
    {
     "name": "stdout",
     "output_type": "stream",
     "text": [
      "0 1\n",
      "1 2\n",
      "2 3\n",
      "3 cat\n",
      "4 5\n"
     ]
    }
   ],
   "source": [
    "l1 = [1, 2, 3, 'cat', 5]\n",
    "\n",
    "for x, y in enumerate(l1):\n",
    "    print(x, y)"
   ]
  },
  {
   "cell_type": "code",
   "execution_count": 71,
   "metadata": {},
   "outputs": [
    {
     "name": "stdout",
     "output_type": "stream",
     "text": [
      "a1\n",
      "a2\n",
      "a3\n",
      "a4\n"
     ]
    }
   ],
   "source": [
    "# Tuples\n",
    "\n",
    "t1 = ('a1', 'a2', 'a3', 'a4')\n",
    "for x in t1:\n",
    "    print(x)"
   ]
  },
  {
   "cell_type": "code",
   "execution_count": 72,
   "metadata": {},
   "outputs": [
    {
     "name": "stdout",
     "output_type": "stream",
     "text": [
      "dict_items([('key1', 'val1'), ('key2', 'val2'), ('key3', 'val3')])\n",
      "key1 val1\n",
      "key2 val2\n",
      "key3 val3\n"
     ]
    }
   ],
   "source": [
    "# Dictionaries\n",
    "\n",
    "d1 = {'key1': 'val1', 'key2':'val2', 'key3': 'val3'}\n",
    "print(d1.items())\n",
    "\n",
    "for k, v in d1.items():\n",
    "    print(k, v)"
   ]
  },
  {
   "cell_type": "code",
   "execution_count": 73,
   "metadata": {},
   "outputs": [
    {
     "name": "stdout",
     "output_type": "stream",
     "text": [
      "0 a1\n",
      "1 a2\n",
      "2 a3\n"
     ]
    }
   ],
   "source": [
    "# Similar way of iterating for lists\n",
    "\n",
    "l1 = ['a1', 'a2', 'a3']\n",
    "\n",
    "for idx, val in enumerate(l1):\n",
    "    print(idx, val)"
   ]
  },
  {
   "cell_type": "code",
   "execution_count": 74,
   "metadata": {},
   "outputs": [
    {
     "name": "stdout",
     "output_type": "stream",
     "text": [
      "1 a\n",
      "2 b\n",
      "3 c\n",
      "4 d\n",
      "5 e\n",
      "\n",
      "0 1 a\n",
      "1 2 b\n",
      "2 3 c\n",
      "3 4 d\n",
      "4 5 e\n"
     ]
    }
   ],
   "source": [
    "l1 = [1, 2, 3, 4, 5]\n",
    "l2 = ['a', 'b', 'c', 'd', 'e']\n",
    "\n",
    "for q, a in zip(l1, l2):\n",
    "    print(q, a)\n",
    "    \n",
    "print('')\n",
    "    \n",
    "for i, (q, a) in enumerate(zip(l1, l2)):\n",
    "    print(i, q, a)"
   ]
  },
  {
   "cell_type": "code",
   "execution_count": 75,
   "metadata": {},
   "outputs": [
    {
     "name": "stdout",
     "output_type": "stream",
     "text": [
      "['a', 'w', 'o', 'r', 'd']\n"
     ]
    }
   ],
   "source": [
    "# List comprehensions\n",
    "\n",
    "w_letters = []\n",
    "for letter in 'aword':\n",
    "    w_letters.append(letter)\n",
    "print(w_letters)"
   ]
  },
  {
   "cell_type": "code",
   "execution_count": 76,
   "metadata": {},
   "outputs": [
    {
     "name": "stdout",
     "output_type": "stream",
     "text": [
      "['a', 'w', 'o', 'r', 'd']\n"
     ]
    }
   ],
   "source": [
    "h_letters = [ letter for letter in 'aword' ]\n",
    "print( h_letters)"
   ]
  },
  {
   "cell_type": "code",
   "execution_count": 77,
   "metadata": {},
   "outputs": [],
   "source": [
    "# General structure\n",
    "\n",
    "# [expression for item in list if condition]"
   ]
  },
  {
   "cell_type": "code",
   "execution_count": 78,
   "metadata": {},
   "outputs": [
    {
     "name": "stdout",
     "output_type": "stream",
     "text": [
      "['a', 'w', 'r', 'd']\n"
     ]
    }
   ],
   "source": [
    "h_letters = [ letter for letter in 'aword' if letter != 'o']\n",
    "print(h_letters)"
   ]
  },
  {
   "cell_type": "code",
   "execution_count": 79,
   "metadata": {},
   "outputs": [
    {
     "data": {
      "text/plain": [
       "[0, 2, 4, 6, 8, 12, 14, 16, 18]"
      ]
     },
     "execution_count": 79,
     "metadata": {},
     "output_type": "execute_result"
    }
   ],
   "source": [
    "[2*i for i in range(10) if i != 5]"
   ]
  },
  {
   "cell_type": "markdown",
   "metadata": {},
   "source": [
    "***\n",
    "***"
   ]
  },
  {
   "cell_type": "markdown",
   "metadata": {},
   "source": [
    "# Recap:\n",
    "\n",
    "# 1. print, and comments\n",
    "\n",
    "# 2. Basic Python data types (str, int, float, complex, bool)\n",
    "\n",
    "# 3. Taking Inputs\n",
    "\n",
    "# 4. Type Conversions\n",
    "\n",
    "# 5. Python Operators (arithmetic, assignment, relational, logical, bitwise, membership, identity)\n",
    "\n",
    "# 6. if-elif-else\n",
    "\n",
    "# 7. Python Indentations\n",
    "\n",
    "# 8. Loops (for, while)\n",
    "\n",
    "# 9. break, continue, pass\n",
    "\n",
    "# 10. Function\n",
    "\n",
    "# 11. Data Structures (lists, tuples, sets, dictionaries)"
   ]
  },
  {
   "cell_type": "markdown",
   "metadata": {},
   "source": [
    "***\n",
    "***"
   ]
  },
  {
   "cell_type": "markdown",
   "metadata": {},
   "source": [
    "# File I/O"
   ]
  },
  {
   "cell_type": "code",
   "execution_count": 80,
   "metadata": {},
   "outputs": [],
   "source": [
    "f1 = open('afile', 'w')\n",
    "\n",
    "f1.write('Line 1\\n')\n",
    "f1.write('Line 2\\n')\n",
    "\n",
    "f1.close()"
   ]
  },
  {
   "cell_type": "code",
   "execution_count": 81,
   "metadata": {},
   "outputs": [
    {
     "name": "stdout",
     "output_type": "stream",
     "text": [
      "Line 1\n",
      "\n"
     ]
    }
   ],
   "source": [
    "f1 = open('afile', 'r')\n",
    "\n",
    "c1 = f1.readline()\n",
    "print(c1)\n",
    "\n",
    "f1.close()"
   ]
  },
  {
   "cell_type": "code",
   "execution_count": 82,
   "metadata": {},
   "outputs": [
    {
     "name": "stdout",
     "output_type": "stream",
     "text": [
      "Line 1\n",
      "Line 2\n",
      "\n"
     ]
    }
   ],
   "source": [
    "f1 = open('afile', 'r')\n",
    "\n",
    "c1 = f1.read()\n",
    "print(c1)\n",
    "\n",
    "f1.close()"
   ]
  },
  {
   "cell_type": "code",
   "execution_count": 83,
   "metadata": {},
   "outputs": [
    {
     "name": "stdout",
     "output_type": "stream",
     "text": [
      "Line 1\n",
      "\n",
      "Line 2\n",
      "\n"
     ]
    }
   ],
   "source": [
    "f1 = open('afile', 'r')\n",
    "\n",
    "for c1 in f1:\n",
    "    print(c1)\n",
    "\n",
    "f1.close()"
   ]
  },
  {
   "cell_type": "markdown",
   "metadata": {},
   "source": [
    "***\n",
    "***"
   ]
  },
  {
   "cell_type": "markdown",
   "metadata": {},
   "source": [
    "# String functions"
   ]
  },
  {
   "cell_type": "code",
   "execution_count": 84,
   "metadata": {},
   "outputs": [
    {
     "name": "stdout",
     "output_type": "stream",
     "text": [
      "abcd\n",
      "defg\n",
      "abcddefg\n",
      "ABCD\n",
      "4\n",
      "       this is a sentence       \n",
      "this is a sentence\n",
      "['this', 'is', 'a', 'sentence']\n",
      "this is a sentence\n"
     ]
    }
   ],
   "source": [
    "s1 = 'abcd'\n",
    "s2 = 'defg'\n",
    "\n",
    "print(s1)\n",
    "print(s2)\n",
    "print(s1+s2)\n",
    "\n",
    "print(s1.upper())\n",
    "print(len(s1))\n",
    "\n",
    "s3 = '       this is a sentence       '\n",
    "print(s3)\n",
    "print(s3.strip())\n",
    "\n",
    "l1 = (s3.strip()).split() # other arguments for split\n",
    "print(l1)\n",
    "s4 = ' '.join(l1)\n",
    "print(s4)"
   ]
  },
  {
   "cell_type": "markdown",
   "metadata": {},
   "source": [
    "# Regular expressions"
   ]
  },
  {
   "cell_type": "code",
   "execution_count": 85,
   "metadata": {},
   "outputs": [
    {
     "name": "stdout",
     "output_type": "stream",
     "text": [
      "['sentence']\n",
      "this is not a sentence??\n"
     ]
    }
   ],
   "source": [
    "import re\n",
    "s1 = 'this is a sentence'\n",
    "\n",
    "print(re.findall('sentence', s1))\n",
    "\n",
    "print(re.sub('a sentence', 'not a sentence??', s1))"
   ]
  },
  {
   "cell_type": "markdown",
   "metadata": {},
   "source": [
    "# Python Libraries -\n",
    "\n",
    "# 1. Linear Algebra Routines (Numpy)\n",
    "\n",
    "# 2. Scientific Computation (Scipy)\n",
    "\n",
    "# 3. Plots (Matplotlib)\n",
    "\n",
    "# 4. Machine Learning (scikit-learn)\n",
    "\n",
    "# 5. Data Handling (pandas)\n",
    "\n",
    "# 6. Algebraic Evaluations (SymPy)\n",
    "\n",
    "# 7. Natural Language Processing (nltk)\n",
    "\n",
    "# 8. Web Scraping (BeautifulSoup)\n",
    "\n",
    "# 9. Computer Vision: OpenCV Python APIs"
   ]
  },
  {
   "cell_type": "markdown",
   "metadata": {},
   "source": [
    "<hr>\n",
    "<hr>\n",
    "\n",
    "<h2> <u>References:</u> </h2>\n",
    "\n",
    "<br>\n",
    "\n",
    "<ol>\n",
    "    <li> <h3> The Python Documetation Tutorial <a href=\"https://docs.python.org/3/tutorial/index.html\">https://docs.python.org/3/tutorial/index.html</a> </h3> </li>\n",
    "</ol>"
   ]
  }
 ],
 "metadata": {
  "kernelspec": {
   "display_name": "Python 3",
   "language": "python",
   "name": "python3"
  },
  "language_info": {
   "codemirror_mode": {
    "name": "ipython",
    "version": 3
   },
   "file_extension": ".py",
   "mimetype": "text/x-python",
   "name": "python",
   "nbconvert_exporter": "python",
   "pygments_lexer": "ipython3",
   "version": "3.8.1"
  }
 },
 "nbformat": 4,
 "nbformat_minor": 2
}
